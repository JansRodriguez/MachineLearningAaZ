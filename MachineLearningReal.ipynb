{
 "cells": [
  {
   "cell_type": "markdown",
   "metadata": {},
   "source": [
    "# Treinamento Machine Learning de A a Z"
   ]
  },
  {
   "cell_type": "markdown",
   "metadata": {},
   "source": [
    "## Introdução   "
   ]
  },
  {
   "cell_type": "code",
   "execution_count": 2,
   "metadata": {},
   "outputs": [],
   "source": [
    "import pandas as pd"
   ]
  },
  {
   "cell_type": "markdown",
   "metadata": {},
   "source": [
    "### Tipos de  Métodos de Aprendizagem de Máquina"
   ]
  },
  {
   "cell_type": "code",
   "execution_count": 19,
   "metadata": {},
   "outputs": [
    {
     "data": {
      "text/plain": [
       "{'Métodos Preditivos': ['Classificação', 'Regressão', '', '', ''],\n",
       " 'Métodos Descritivos': ['Associação',\n",
       "  'Agrupamento',\n",
       "  'Detecção de Desvios',\n",
       "  'Padrões Sequenciais',\n",
       "  'Sumarização']}"
      ]
     },
     "execution_count": 19,
     "metadata": {},
     "output_type": "execute_result"
    }
   ],
   "source": [
    "AprendizagemDeMaquina = {\n",
    "    'Métodos Preditivos': ['Classificação', 'Regressão', '', '', ''],\n",
    "    'Métodos Descritivos': ['Associação', 'Agrupamento', 'Detecção de Desvios', 'Padrões Sequenciais', 'Sumarização']\n",
    "}\n",
    "AprendizagemDeMaquina"
   ]
  },
  {
   "cell_type": "code",
   "execution_count": 20,
   "metadata": {},
   "outputs": [
    {
     "data": {
      "text/html": [
       "<div>\n",
       "<style scoped>\n",
       "    .dataframe tbody tr th:only-of-type {\n",
       "        vertical-align: middle;\n",
       "    }\n",
       "\n",
       "    .dataframe tbody tr th {\n",
       "        vertical-align: top;\n",
       "    }\n",
       "\n",
       "    .dataframe thead th {\n",
       "        text-align: right;\n",
       "    }\n",
       "</style>\n",
       "<table border=\"1\" class=\"dataframe\">\n",
       "  <thead>\n",
       "    <tr style=\"text-align: right;\">\n",
       "      <th></th>\n",
       "      <th>Métodos Preditivos</th>\n",
       "      <th>Métodos Descritivos</th>\n",
       "    </tr>\n",
       "  </thead>\n",
       "  <tbody>\n",
       "    <tr>\n",
       "      <th>0</th>\n",
       "      <td>Classificação</td>\n",
       "      <td>Associação</td>\n",
       "    </tr>\n",
       "    <tr>\n",
       "      <th>1</th>\n",
       "      <td>Regressão</td>\n",
       "      <td>Agrupamento</td>\n",
       "    </tr>\n",
       "    <tr>\n",
       "      <th>2</th>\n",
       "      <td></td>\n",
       "      <td>Detecção de Desvios</td>\n",
       "    </tr>\n",
       "    <tr>\n",
       "      <th>3</th>\n",
       "      <td></td>\n",
       "      <td>Padrões Sequenciais</td>\n",
       "    </tr>\n",
       "    <tr>\n",
       "      <th>4</th>\n",
       "      <td></td>\n",
       "      <td>Sumarização</td>\n",
       "    </tr>\n",
       "  </tbody>\n",
       "</table>\n",
       "</div>"
      ],
      "text/plain": [
       "  Métodos Preditivos  Métodos Descritivos\n",
       "0      Classificação           Associação\n",
       "1          Regressão          Agrupamento\n",
       "2                     Detecção de Desvios\n",
       "3                     Padrões Sequenciais\n",
       "4                             Sumarização"
      ]
     },
     "execution_count": 20,
     "metadata": {},
     "output_type": "execute_result"
    }
   ],
   "source": [
    "CursoAprendizagemDeMaquina  = pd.DataFrame(AprendizagemDeMaquina)\n",
    "CursoAprendizagemDeMaquina"
   ]
  },
  {
   "cell_type": "markdown",
   "metadata": {},
   "source": [
    "#### Métodos Preditivos"
   ]
  },
  {
   "cell_type": "code",
   "execution_count": 42,
   "metadata": {},
   "outputs": [
    {
     "data": {
      "text/html": [
       "<div>\n",
       "<style scoped>\n",
       "    .dataframe tbody tr th:only-of-type {\n",
       "        vertical-align: middle;\n",
       "    }\n",
       "\n",
       "    .dataframe tbody tr th {\n",
       "        vertical-align: top;\n",
       "    }\n",
       "\n",
       "    .dataframe thead th {\n",
       "        text-align: right;\n",
       "    }\n",
       "</style>\n",
       "<table border=\"1\" class=\"dataframe\">\n",
       "  <thead>\n",
       "    <tr style=\"text-align: right;\">\n",
       "      <th></th>\n",
       "      <th>CLASSIFICAÇÃO</th>\n",
       "      <th>REGRESSÃO</th>\n",
       "    </tr>\n",
       "  </thead>\n",
       "  <tbody>\n",
       "    <tr>\n",
       "      <th>0</th>\n",
       "      <td>Define classes para os registros</td>\n",
       "      <td>Gera previsão de Valores Númericos</td>\n",
       "    </tr>\n",
       "    <tr>\n",
       "      <th>1</th>\n",
       "      <td>Marketing Direto</td>\n",
       "      <td>?Lucro das vendas, baseado no gasto com Propag...</td>\n",
       "    </tr>\n",
       "    <tr>\n",
       "      <th>2</th>\n",
       "      <td>Insatisfação do Cliente</td>\n",
       "      <td>Baseada na Temperatura, umidade e pressão do a...</td>\n",
       "    </tr>\n",
       "    <tr>\n",
       "      <th>3</th>\n",
       "      <td>Risco de Crédito</td>\n",
       "      <td>Baseado nos Fatores Externos, qual o valor do ...</td>\n",
       "    </tr>\n",
       "    <tr>\n",
       "      <th>4</th>\n",
       "      <td>Filtro de spam</td>\n",
       "      <td>Taxa de sobrevivencia, baseado nos resultados ...</td>\n",
       "    </tr>\n",
       "    <tr>\n",
       "      <th>5</th>\n",
       "      <td>Separação de Notícias</td>\n",
       "      <td>Risco de Investimento</td>\n",
       "    </tr>\n",
       "    <tr>\n",
       "      <th>6</th>\n",
       "      <td>Reconhecimento de Voz</td>\n",
       "      <td>Baseado no Histórico do cartão de crédito, def...</td>\n",
       "    </tr>\n",
       "    <tr>\n",
       "      <th>7</th>\n",
       "      <td>Reconhecimento de Face</td>\n",
       "      <td>Novos valores, baseados novos valores anteriores</td>\n",
       "    </tr>\n",
       "    <tr>\n",
       "      <th>8</th>\n",
       "      <td>Previsão de Doenças</td>\n",
       "      <td></td>\n",
       "    </tr>\n",
       "  </tbody>\n",
       "</table>\n",
       "</div>"
      ],
      "text/plain": [
       "                      CLASSIFICAÇÃO  \\\n",
       "0  Define classes para os registros   \n",
       "1                  Marketing Direto   \n",
       "2           Insatisfação do Cliente   \n",
       "3                  Risco de Crédito   \n",
       "4                    Filtro de spam   \n",
       "5             Separação de Notícias   \n",
       "6             Reconhecimento de Voz   \n",
       "7            Reconhecimento de Face   \n",
       "8               Previsão de Doenças   \n",
       "\n",
       "                                           REGRESSÃO  \n",
       "0                 Gera previsão de Valores Númericos  \n",
       "1  ?Lucro das vendas, baseado no gasto com Propag...  \n",
       "2  Baseada na Temperatura, umidade e pressão do a...  \n",
       "3  Baseado nos Fatores Externos, qual o valor do ...  \n",
       "4  Taxa de sobrevivencia, baseado nos resultados ...  \n",
       "5                              Risco de Investimento  \n",
       "6  Baseado no Histórico do cartão de crédito, def...  \n",
       "7   Novos valores, baseados novos valores anteriores  \n",
       "8                                                     "
      ]
     },
     "execution_count": 42,
     "metadata": {},
     "output_type": "execute_result"
    }
   ],
   "source": [
    "Métodos_Preditivos = {\n",
    "    'CLASSIFICAÇÃO': ['Define classes para os registros', 'Marketing Direto', 'Insatisfação do Cliente', 'Risco de Crédito', 'Filtro de spam', 'Separação de Notícias', 'Reconhecimento de Voz', 'Reconhecimento de Face', 'Previsão de Doenças'],\n",
    "    'REGRESSÃO': ['Gera previsão de Valores Númericos', '?Lucro das vendas, baseado no gasto com Propaganda', 'Baseada na Temperatura, umidade e pressão do ar, qual será a Velocidade do vento', 'Baseado nos Fatores Externos, qual o valor do dolar', 'Taxa de sobrevivencia, baseado nos resultados dos exames', 'Risco de Investimento', 'Baseado no Histórico do cartão de crédito, definir um novo limite', 'Novos valores, baseados novos valores anteriores', '']\n",
    "}\n",
    "AplicaçãoMétodos_Preditivos = pd.DataFrame(Métodos_Preditivos)\n",
    "AplicaçãoMétodos_Preditivos"
   ]
  },
  {
   "cell_type": "markdown",
   "metadata": {},
   "source": [
    "#### Métodos Descritivos"
   ]
  },
  {
   "cell_type": "code",
   "execution_count": 31,
   "metadata": {},
   "outputs": [
    {
     "data": {
      "text/html": [
       "<div>\n",
       "<style scoped>\n",
       "    .dataframe tbody tr th:only-of-type {\n",
       "        vertical-align: middle;\n",
       "    }\n",
       "\n",
       "    .dataframe tbody tr th {\n",
       "        vertical-align: top;\n",
       "    }\n",
       "\n",
       "    .dataframe thead th {\n",
       "        text-align: right;\n",
       "    }\n",
       "</style>\n",
       "<table border=\"1\" class=\"dataframe\">\n",
       "  <thead>\n",
       "    <tr style=\"text-align: right;\">\n",
       "      <th></th>\n",
       "      <th>ASSOCIAÇÃO</th>\n",
       "      <th>AGRUPAMENTO</th>\n",
       "      <th>DETECÇÃO DE DESVIOS (Outliers)</th>\n",
       "      <th>PADRÕES SEQUENCIAIS</th>\n",
       "      <th>SUMARIZAÇÃO</th>\n",
       "    </tr>\n",
       "  </thead>\n",
       "  <tbody>\n",
       "    <tr>\n",
       "      <th>0</th>\n",
       "      <td>Regras de Associação para compras cruzadas</td>\n",
       "      <td>Segmentação de Mercado</td>\n",
       "      <td>Detecção de Fraude em Cartões</td>\n",
       "      <td>Compras de Livros em Série</td>\n",
       "      <td>Redução de caracteres em texto</td>\n",
       "    </tr>\n",
       "    <tr>\n",
       "      <th>1</th>\n",
       "      <td>Prateleiras de Mercado</td>\n",
       "      <td>Mala Direta</td>\n",
       "      <td>Intrusão de Redes</td>\n",
       "      <td>Compra do Produto A depois produto B,..., Z</td>\n",
       "      <td>Segmentação de Mercado</td>\n",
       "    </tr>\n",
       "    <tr>\n",
       "      <th>2</th>\n",
       "      <td>Catálogos de Promoções</td>\n",
       "      <td>Notícias  por grupos e interesses</td>\n",
       "      <td>Uso de bens de consumo</td>\n",
       "      <td>Marketing Direcionado a maior taxa de conversão</td>\n",
       "      <td></td>\n",
       "    </tr>\n",
       "    <tr>\n",
       "      <th>3</th>\n",
       "      <td>Controle de Evasão em Universidades</td>\n",
       "      <td>Perfil de Clientes de Consumo diversos segmentos</td>\n",
       "      <td>Doping - Desempenho de atletas</td>\n",
       "      <td>Prevensão de Doenças</td>\n",
       "      <td></td>\n",
       "    </tr>\n",
       "    <tr>\n",
       "      <th>4</th>\n",
       "      <td></td>\n",
       "      <td>Análise das Redes Sociais</td>\n",
       "      <td>Monitoramento de Máquinas em Data Center</td>\n",
       "      <td>Navegação do seu site, comportamento do cliente</td>\n",
       "      <td></td>\n",
       "    </tr>\n",
       "  </tbody>\n",
       "</table>\n",
       "</div>"
      ],
      "text/plain": [
       "                                   ASSOCIAÇÃO  \\\n",
       "0  Regras de Associação para compras cruzadas   \n",
       "1                      Prateleiras de Mercado   \n",
       "2                      Catálogos de Promoções   \n",
       "3         Controle de Evasão em Universidades   \n",
       "4                                               \n",
       "\n",
       "                                        AGRUPAMENTO  \\\n",
       "0                            Segmentação de Mercado   \n",
       "1                                       Mala Direta   \n",
       "2                 Notícias  por grupos e interesses   \n",
       "3  Perfil de Clientes de Consumo diversos segmentos   \n",
       "4                         Análise das Redes Sociais   \n",
       "\n",
       "             DETECÇÃO DE DESVIOS (Outliers)  \\\n",
       "0             Detecção de Fraude em Cartões   \n",
       "1                         Intrusão de Redes   \n",
       "2                    Uso de bens de consumo   \n",
       "3            Doping - Desempenho de atletas   \n",
       "4  Monitoramento de Máquinas em Data Center   \n",
       "\n",
       "                               PADRÕES SEQUENCIAIS  \\\n",
       "0                       Compras de Livros em Série   \n",
       "1      Compra do Produto A depois produto B,..., Z   \n",
       "2  Marketing Direcionado a maior taxa de conversão   \n",
       "3                             Prevensão de Doenças   \n",
       "4  Navegação do seu site, comportamento do cliente   \n",
       "\n",
       "                      SUMARIZAÇÃO  \n",
       "0  Redução de caracteres em texto  \n",
       "1          Segmentação de Mercado  \n",
       "2                                  \n",
       "3                                  \n",
       "4                                  "
      ]
     },
     "execution_count": 31,
     "metadata": {},
     "output_type": "execute_result"
    }
   ],
   "source": [
    "Método_Descritivos = {\n",
    "    'ASSOCIAÇÃO': ['Regras de Associação para compras cruzadas', 'Prateleiras de Mercado', 'Catálogos de Promoções', 'Controle de Evasão em Universidades', ''],\n",
    "    'AGRUPAMENTO': ['Segmentação de Mercado', 'Mala Direta', 'Notícias  por grupos e interesses', 'Perfil de Clientes de Consumo diversos segmentos', 'Análise das Redes Sociais'],\n",
    "    'DETECÇÃO DE DESVIOS (Outliers)':['Detecção de Fraude em Cartões', 'Intrusão de Redes', 'Uso de bens de consumo', 'Doping - Desempenho de atletas', 'Monitoramento de Máquinas em Data Center'],\n",
    "    'PADRÕES SEQUENCIAIS': ['Compras de Livros em Série','Compra do Produto A depois produto B,..., Z', 'Marketing Direcionado a maior taxa de conversão', 'Prevensão de Doenças','Navegação do seu site, comportamento do cliente'],\n",
    "    'SUMARIZAÇÃO': ['Redução de caracteres em texto', 'Segmentação de Mercado', '', '', '']\n",
    "}\n",
    "Método_Descritivos = pd.DataFrame(Método_Descritivos)\n",
    "Método_Descritivos"
   ]
  },
  {
   "cell_type": "markdown",
   "metadata": {},
   "source": [
    "### Tipos de Aprendizagem de Máquinas"
   ]
  },
  {
   "cell_type": "markdown",
   "metadata": {},
   "source": [
    "#### Visão Geral"
   ]
  },
  {
   "cell_type": "code",
   "execution_count": 39,
   "metadata": {},
   "outputs": [
    {
     "data": {
      "text/html": [
       "<div>\n",
       "<style scoped>\n",
       "    .dataframe tbody tr th:only-of-type {\n",
       "        vertical-align: middle;\n",
       "    }\n",
       "\n",
       "    .dataframe tbody tr th {\n",
       "        vertical-align: top;\n",
       "    }\n",
       "\n",
       "    .dataframe thead th {\n",
       "        text-align: right;\n",
       "    }\n",
       "</style>\n",
       "<table border=\"1\" class=\"dataframe\">\n",
       "  <thead>\n",
       "    <tr style=\"text-align: right;\">\n",
       "      <th></th>\n",
       "      <th>SUPERVISIONADA</th>\n",
       "      <th>NÃO-SUPERVISIONADA</th>\n",
       "      <th>APRENDIZAGEM POR REFORÇO</th>\n",
       "    </tr>\n",
       "  </thead>\n",
       "  <tbody>\n",
       "    <tr>\n",
       "      <th>0</th>\n",
       "      <td>Classificação</td>\n",
       "      <td>Associação</td>\n",
       "      <td></td>\n",
       "    </tr>\n",
       "    <tr>\n",
       "      <th>1</th>\n",
       "      <td>Regressão</td>\n",
       "      <td>Agrupamento</td>\n",
       "      <td></td>\n",
       "    </tr>\n",
       "    <tr>\n",
       "      <th>2</th>\n",
       "      <td></td>\n",
       "      <td>Detecção de Desvios</td>\n",
       "      <td></td>\n",
       "    </tr>\n",
       "    <tr>\n",
       "      <th>3</th>\n",
       "      <td></td>\n",
       "      <td>Padrões Sequenciais</td>\n",
       "      <td></td>\n",
       "    </tr>\n",
       "    <tr>\n",
       "      <th>4</th>\n",
       "      <td></td>\n",
       "      <td>Sumarização</td>\n",
       "      <td></td>\n",
       "    </tr>\n",
       "  </tbody>\n",
       "</table>\n",
       "</div>"
      ],
      "text/plain": [
       "  SUPERVISIONADA   NÃO-SUPERVISIONADA APRENDIZAGEM POR REFORÇO\n",
       "0  Classificação           Associação                         \n",
       "1      Regressão          Agrupamento                         \n",
       "2                 Detecção de Desvios                         \n",
       "3                 Padrões Sequenciais                         \n",
       "4                         Sumarização                         "
      ]
     },
     "execution_count": 39,
     "metadata": {},
     "output_type": "execute_result"
    }
   ],
   "source": [
    "TipoMachineLearning = {\n",
    "    'SUPERVISIONADA' : ['Classificação', 'Regressão', '', '', ''],\n",
    "    'NÃO-SUPERVISIONADA': ['Associação', 'Agrupamento', 'Detecção de Desvios', 'Padrões Sequenciais', 'Sumarização'],\n",
    "    'APRENDIZAGEM POR REFORÇO' : ['', '', '', '', '']\n",
    "}\n",
    "TipoMachineLearning = pd.DataFrame(TipoMachineLearning)\n",
    "TipoMachineLearning"
   ]
  },
  {
   "cell_type": "markdown",
   "metadata": {},
   "source": [
    "#### Aprendizagem Supervisionada"
   ]
  },
  {
   "cell_type": "code",
   "execution_count": 53,
   "metadata": {},
   "outputs": [
    {
     "data": {
      "text/html": [
       "<div>\n",
       "<style scoped>\n",
       "    .dataframe tbody tr th:only-of-type {\n",
       "        vertical-align: middle;\n",
       "    }\n",
       "\n",
       "    .dataframe tbody tr th {\n",
       "        vertical-align: top;\n",
       "    }\n",
       "\n",
       "    .dataframe thead th {\n",
       "        text-align: right;\n",
       "    }\n",
       "</style>\n",
       "<table border=\"1\" class=\"dataframe\">\n",
       "  <thead>\n",
       "    <tr style=\"text-align: right;\">\n",
       "      <th></th>\n",
       "      <th>Fase 1 da Aprendizagem Supervisionada</th>\n",
       "      <th>Aplicação da Aprendizagem Supervisionada</th>\n",
       "      <th>Fase 2 da Aprendizagem Supervisionada</th>\n",
       "    </tr>\n",
       "  </thead>\n",
       "  <tbody>\n",
       "    <tr>\n",
       "      <th>0</th>\n",
       "      <td>Extração das Características</td>\n",
       "      <td>=========================&gt;</td>\n",
       "      <td>Extração das Características</td>\n",
       "    </tr>\n",
       "    <tr>\n",
       "      <th>1</th>\n",
       "      <td>Algoritmo de Aprendizagem (Supervisor)</td>\n",
       "      <td></td>\n",
       "      <td>Aplico o Modelo Aprendido</td>\n",
       "    </tr>\n",
       "    <tr>\n",
       "      <th>2</th>\n",
       "      <td>Modelo Aprendido</td>\n",
       "      <td></td>\n",
       "      <td>Tabela Resposta</td>\n",
       "    </tr>\n",
       "  </tbody>\n",
       "</table>\n",
       "</div>"
      ],
      "text/plain": [
       "    Fase 1 da Aprendizagem Supervisionada  \\\n",
       "0            Extração das Características   \n",
       "1  Algoritmo de Aprendizagem (Supervisor)   \n",
       "2                        Modelo Aprendido   \n",
       "\n",
       "  Aplicação da Aprendizagem Supervisionada  \\\n",
       "0               =========================>   \n",
       "1                                            \n",
       "2                                            \n",
       "\n",
       "  Fase 2 da Aprendizagem Supervisionada  \n",
       "0          Extração das Características  \n",
       "1             Aplico o Modelo Aprendido  \n",
       "2                       Tabela Resposta  "
      ]
     },
     "execution_count": 53,
     "metadata": {},
     "output_type": "execute_result"
    }
   ],
   "source": [
    "Aprendizagem_Supervisionada = {\n",
    "    'Fase 1 da Aprendizagem Supervisionada' : ['Extração das Características', 'Algoritmo de Aprendizagem (Supervisor)', 'Modelo Aprendido'],\n",
    "    'Aplicação da Aprendizagem Supervisionada':['=========================>', '', ''],\n",
    "    \"Fase 2 da Aprendizagem Supervisionada\" : ['Extração das Características', 'Aplico o Modelo Aprendido', 'Tabela Resposta']\n",
    "}\n",
    "pd.DataFrame(Aprendizagem_Supervisionada)"
   ]
  },
  {
   "cell_type": "markdown",
   "metadata": {},
   "source": [
    "#### Aprendizagem Não-Supervisionada"
   ]
  },
  {
   "cell_type": "code",
   "execution_count": 60,
   "metadata": {},
   "outputs": [
    {
     "data": {
      "text/html": [
       "<div>\n",
       "<style scoped>\n",
       "    .dataframe tbody tr th:only-of-type {\n",
       "        vertical-align: middle;\n",
       "    }\n",
       "\n",
       "    .dataframe tbody tr th {\n",
       "        vertical-align: top;\n",
       "    }\n",
       "\n",
       "    .dataframe thead th {\n",
       "        text-align: right;\n",
       "    }\n",
       "</style>\n",
       "<table border=\"1\" class=\"dataframe\">\n",
       "  <thead>\n",
       "    <tr style=\"text-align: right;\">\n",
       "      <th></th>\n",
       "      <th>Etapas</th>\n",
       "    </tr>\n",
       "  </thead>\n",
       "  <tbody>\n",
       "    <tr>\n",
       "      <th>Etapa 1</th>\n",
       "      <td>Analizar automaticamente os dados (Associação,...</td>\n",
       "    </tr>\n",
       "    <tr>\n",
       "      <th>Etapa 2</th>\n",
       "      <td>Necessita análise para determinar o significad...</td>\n",
       "    </tr>\n",
       "  </tbody>\n",
       "</table>\n",
       "</div>"
      ],
      "text/plain": [
       "                                                    Etapas\n",
       "Etapa 1  Analizar automaticamente os dados (Associação,...\n",
       "Etapa 2  Necessita análise para determinar o significad..."
      ]
     },
     "execution_count": 60,
     "metadata": {},
     "output_type": "execute_result"
    }
   ],
   "source": [
    "Aprendizagem_Não_Supervisionada = {\n",
    "    \"Etapas\" : ['Analizar automaticamente os dados (Associação, Agrupamento)', 'Necessita análise para determinar o significado dos padrões encontrados'\n",
    "]}\n",
    "pd.DataFrame(Aprendizagem_Não_Supervisionada, index=[\"Etapa 1\", \"Etapa 2\"])"
   ]
  },
  {
   "cell_type": "markdown",
   "metadata": {},
   "source": [
    "#### Aprendizagem Por Reforço"
   ]
  },
  {
   "cell_type": "code",
   "execution_count": 71,
   "metadata": {},
   "outputs": [
    {
     "data": {
      "text/html": [
       "<div>\n",
       "<style scoped>\n",
       "    .dataframe tbody tr th:only-of-type {\n",
       "        vertical-align: middle;\n",
       "    }\n",
       "\n",
       "    .dataframe tbody tr th {\n",
       "        vertical-align: top;\n",
       "    }\n",
       "\n",
       "    .dataframe thead th {\n",
       "        text-align: right;\n",
       "    }\n",
       "</style>\n",
       "<table border=\"1\" class=\"dataframe\">\n",
       "  <thead>\n",
       "    <tr style=\"text-align: right;\">\n",
       "      <th></th>\n",
       "      <th>0</th>\n",
       "    </tr>\n",
       "  </thead>\n",
       "  <tbody>\n",
       "    <tr>\n",
       "      <th>Etapa 1</th>\n",
       "      <td>Agente aprende com as interações com o ambient...</td>\n",
       "    </tr>\n",
       "    <tr>\n",
       "      <th>Etapa 2</th>\n",
       "      <td>Aprende com a própria experiência</td>\n",
       "    </tr>\n",
       "  </tbody>\n",
       "</table>\n",
       "</div>"
      ],
      "text/plain": [
       "                                                         0\n",
       "Etapa 1  Agente aprende com as interações com o ambient...\n",
       "Etapa 2                  Aprende com a própria experiência"
      ]
     },
     "execution_count": 71,
     "metadata": {},
     "output_type": "execute_result"
    }
   ],
   "source": [
    "Aprendizagem_Por_Reforço = [\n",
    "            'Agente aprende com as interações com o ambiente (Causa e Efeito)',\n",
    "            'Aprende com a própria experiência'\n",
    "]\n",
    "pd.DataFrame(Aprendizagem_Por_Reforço, index=['Etapa 1', 'Etapa 2'])"
   ]
  },
  {
   "cell_type": "markdown",
   "metadata": {},
   "source": [
    "## Primeiro Método de Aprendizagem de Máquina (Classificação)"
   ]
  },
  {
   "cell_type": "code",
   "execution_count": null,
   "metadata": {},
   "outputs": [],
   "source": []
  },
  {
   "cell_type": "code",
   "execution_count": null,
   "metadata": {},
   "outputs": [],
   "source": []
  }
 ],
 "metadata": {
  "kernelspec": {
   "display_name": "base",
   "language": "python",
   "name": "python3"
  },
  "language_info": {
   "codemirror_mode": {
    "name": "ipython",
    "version": 3
   },
   "file_extension": ".py",
   "mimetype": "text/x-python",
   "name": "python",
   "nbconvert_exporter": "python",
   "pygments_lexer": "ipython3",
   "version": "3.9.13"
  }
 },
 "nbformat": 4,
 "nbformat_minor": 2
}
