{
 "cells": [
  {
   "cell_type": "markdown",
   "metadata": {},
   "source": [
    "# Treinamento Machine Learning de A a Z"
   ]
  },
  {
   "cell_type": "markdown",
   "metadata": {},
   "source": [
    "## Introdução   "
   ]
  },
  {
   "cell_type": "code",
   "execution_count": 1,
   "metadata": {},
   "outputs": [],
   "source": [
    "import pandas as pd"
   ]
  },
  {
   "cell_type": "code",
   "execution_count": 9,
   "metadata": {},
   "outputs": [
    {
     "data": {
      "text/plain": [
       "{'Métodos Preditivos': ['Classificação', 'Regressão', '-', '-', '-'],\n",
       " 'Métodos Descritivos': ['Associação',\n",
       "  'Agrupamento',\n",
       "  'Detecção de Desvios',\n",
       "  'Padrões Sequenciais',\n",
       "  'Sumarização']}"
      ]
     },
     "execution_count": 9,
     "metadata": {},
     "output_type": "execute_result"
    }
   ],
   "source": [
    "AprendizagemDeMaquina = {\n",
    "    'Métodos Preditivos': ['Classificação', 'Regressão', '-', '-', '-'],\n",
    "    'Métodos Descritivos': ['Associação', 'Agrupamento', 'Detecção de Desvios', 'Padrões Sequenciais', 'Sumarização']\n",
    "}\n",
    "AprendizagemDeMaquina"
   ]
  },
  {
   "cell_type": "code",
   "execution_count": 14,
   "metadata": {},
   "outputs": [
    {
     "data": {
      "text/html": [
       "<div>\n",
       "<style scoped>\n",
       "    .dataframe tbody tr th:only-of-type {\n",
       "        vertical-align: middle;\n",
       "    }\n",
       "\n",
       "    .dataframe tbody tr th {\n",
       "        vertical-align: top;\n",
       "    }\n",
       "\n",
       "    .dataframe thead th {\n",
       "        text-align: right;\n",
       "    }\n",
       "</style>\n",
       "<table border=\"1\" class=\"dataframe\">\n",
       "  <thead>\n",
       "    <tr style=\"text-align: right;\">\n",
       "      <th></th>\n",
       "      <th>Métodos Preditivos</th>\n",
       "      <th>Métodos Descritivos</th>\n",
       "    </tr>\n",
       "  </thead>\n",
       "  <tbody>\n",
       "    <tr>\n",
       "      <th>0</th>\n",
       "      <td>Classificação</td>\n",
       "      <td>Associação</td>\n",
       "    </tr>\n",
       "    <tr>\n",
       "      <th>1</th>\n",
       "      <td>Regressão</td>\n",
       "      <td>Agrupamento</td>\n",
       "    </tr>\n",
       "    <tr>\n",
       "      <th>2</th>\n",
       "      <td>-</td>\n",
       "      <td>Detecção de Desvios</td>\n",
       "    </tr>\n",
       "    <tr>\n",
       "      <th>3</th>\n",
       "      <td>-</td>\n",
       "      <td>Padrões Sequenciais</td>\n",
       "    </tr>\n",
       "    <tr>\n",
       "      <th>4</th>\n",
       "      <td>-</td>\n",
       "      <td>Sumarização</td>\n",
       "    </tr>\n",
       "  </tbody>\n",
       "</table>\n",
       "</div>"
      ],
      "text/plain": [
       "  Métodos Preditivos  Métodos Descritivos\n",
       "0      Classificação           Associação\n",
       "1          Regressão          Agrupamento\n",
       "2                  -  Detecção de Desvios\n",
       "3                  -  Padrões Sequenciais\n",
       "4                  -          Sumarização"
      ]
     },
     "execution_count": 14,
     "metadata": {},
     "output_type": "execute_result"
    }
   ],
   "source": [
    "CursoAprendizagemDeMaquina  = pd.DataFrame(AprendizagemDeMaquina)\n",
    "CursoAprendizagemDeMaquina"
   ]
  },
  {
   "cell_type": "code",
   "execution_count": 27,
   "metadata": {},
   "outputs": [
    {
     "data": {
      "text/plain": [
       "0                       CLASSIFICAÇÃO\n",
       "1    Define classes para os registros\n",
       "2                    Marketing Direto\n",
       "3             Insatisfação do Cliente\n",
       "4                    Risco de Crédito\n",
       "5                      Filtro de spam\n",
       "6               Separação de Notícias\n",
       "7               Reconhecimento de Voz\n",
       "8              Reconhecimento de Face\n",
       "9                 Previsão de Doenças\n",
       "dtype: object"
      ]
     },
     "execution_count": 27,
     "metadata": {},
     "output_type": "execute_result"
    }
   ],
   "source": [
    "MétodoPreditivo = ['CLASSIFICAÇÃO', 'Define classes para os registros', 'Marketing Direto', 'Insatisfação do Cliente', 'Risco de Crédito', 'Filtro de spam', 'Separação de Notícias', 'Reconhecimento de Voz', 'Reconhecimento de Face', 'Previsão de Doenças']\n",
    "AplicaçãoMétodoPreditivo = pd.Series(MétodoPreditivo)\n",
    "AplicaçãoMétodoPreditivo"
   ]
  },
  {
   "cell_type": "code",
   "execution_count": 28,
   "metadata": {},
   "outputs": [
    {
     "data": {
      "text/plain": [
       "0                                            REGRESSÃO\n",
       "1                        Previsão de Valores Númericos\n",
       "2    Qual o Lucro das vendas, baseado no gasto com ...\n",
       "3    Baseada na Temperatura, umidade e pressão do a...\n",
       "4    Baseado nos Fatores Externos, qual o valor do ...\n",
       "5    Taxa de sobrevivencia, baseado nos resultados ...\n",
       "6                                Risco de Investimento\n",
       "7    Baseado no Histórico do cartão de crédito, def...\n",
       "8     Novos valores, baseados novos valores anteriores\n",
       "dtype: object"
      ]
     },
     "execution_count": 28,
     "metadata": {},
     "output_type": "execute_result"
    }
   ],
   "source": [
    "Método_Preditivo = [\n",
    "    'REGRESSÃO', 'Previsão de Valores Númericos', 'Qual o Lucro das vendas, baseado no gasto com Propaganda', 'Baseada na Temperatura, umidade e pressão do ar, qual será a Velocidade do vento', 'Baseado nos Fatores Externos, qual o valor do dolar', 'Taxa de sobrevivencia, baseado nos resultados dos exames', 'Risco de Investimento', 'Baseado no Histórico do cartão de crédito, definir um novo limite', 'Novos valores, baseados novos valores anteriores'\n",
    "]\n",
    "Método_Preditivo = pd.Series(Método_Preditivo)\n",
    "Método_Preditivo\n"
   ]
  },
  {
   "cell_type": "code",
   "execution_count": null,
   "metadata": {},
   "outputs": [],
   "source": []
  }
 ],
 "metadata": {
  "kernelspec": {
   "display_name": "base",
   "language": "python",
   "name": "python3"
  },
  "language_info": {
   "codemirror_mode": {
    "name": "ipython",
    "version": 3
   },
   "file_extension": ".py",
   "mimetype": "text/x-python",
   "name": "python",
   "nbconvert_exporter": "python",
   "pygments_lexer": "ipython3",
   "version": "3.9.13"
  }
 },
 "nbformat": 4,
 "nbformat_minor": 2
}
